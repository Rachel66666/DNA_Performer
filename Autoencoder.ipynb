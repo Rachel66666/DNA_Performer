{
 "cells": [
  {
   "cell_type": "code",
   "execution_count": 1,
   "id": "d07c4699",
   "metadata": {},
   "outputs": [],
   "source": [
    "import torch\n",
    "import pickle\n",
    "import torch.nn as nn\n",
    "import torch.optim as optim\n",
    "import torch.nn.functional as F\n",
    "import numpy as np\n",
    "from pickledataset import SeqDataset\n",
    "from matplotlib import pyplot as plt"
   ]
  },
  {
   "cell_type": "code",
   "execution_count": 2,
   "id": "89f69b40",
   "metadata": {},
   "outputs": [],
   "source": [
    "device = torch.device('cuda')"
   ]
  },
  {
   "cell_type": "code",
   "execution_count": 3,
   "id": "b817aecb",
   "metadata": {},
   "outputs": [
    {
     "data": {
      "text/plain": [
       "2000"
      ]
     },
     "execution_count": 3,
     "metadata": {},
     "output_type": "execute_result"
    }
   ],
   "source": [
    "filename = '2000_line_100k_len_April_3.pickle'\n",
    "data = SeqDataset(filename, 2000)\n",
    "len(data)"
   ]
  },
  {
   "cell_type": "code",
   "execution_count": 4,
   "id": "0f2b1032",
   "metadata": {},
   "outputs": [],
   "source": [
    "class autoencoder(nn.Module):\n",
    "    def __init__(self, embed_size=512):\n",
    "        super(autoencoder, self).__init__()\n",
    "        self.encoder_conv1 = nn.Conv2d(1, 8, (1, 5), stride=5)\n",
    "        self.encoder_conv2 = nn.Conv2d(8, 16, (1, 10), stride=10)\n",
    "        self.encoder_fc1 = nn.Linear(16*2000, embed_size)\n",
    "        \n",
    "        self.decoder_fc1 = nn.Linear(embed_size, 16*2000)\n",
    "        self.decoder_deconv1 = nn.ConvTranspose2d(16, 8, (1, 10), stride=10)\n",
    "        self.decoder_deconv2 = nn.ConvTranspose2d(8, 1, (1, 5), stride=5)\n",
    "        \n",
    "        \n",
    "    def forward(self, input):\n",
    "        input = F.relu(self.encoder_conv1(input))\n",
    "        input = F.relu(self.encoder_conv2(input))\n",
    "        input = input.view(-1, 16*1*2000)\n",
    "        input = F.relu(self.encoder_fc1(input))\n",
    "        \n",
    "        recon = F.relu(self.decoder_fc1(input))\n",
    "        recon = recon.reshape([1, 16, 1, 2000])\n",
    "        recon = F.relu(self.decoder_deconv1(recon))\n",
    "        recon = F.relu(self.decoder_deconv2(recon))\n",
    "        \n",
    "        return recon"
   ]
  },
  {
   "cell_type": "code",
   "execution_count": 5,
   "id": "e117ba0d",
   "metadata": {},
   "outputs": [],
   "source": [
    "def convert_data(l):\n",
    "    result = []\n",
    "    for i in l:\n",
    "        result.append(torch.unsqueeze(i, 0)[None, ...].to(device, dtype = torch.float))\n",
    "    return result"
   ]
  },
  {
   "cell_type": "code",
   "execution_count": 6,
   "id": "587f9171",
   "metadata": {
    "scrolled": true
   },
   "outputs": [],
   "source": [
    "ae = autoencoder(embed_size=512).to(device)\n",
    "optimizer = optim.SGD(ae.parameters(), lr=1e-4, momentum=0.8)\n",
    "criterion = nn.MSELoss()\n",
    "data = SeqDataset(filename, 2000)\n",
    "\n",
    "epochs = 2\n",
    "counter = 0\n",
    "counts, losses = [], []\n",
    "for epoch in range(epochs):\n",
    "    for i in range(2000):\n",
    "        running_loss = 0\n",
    "        items = convert_data(data.__getitem__(i))\n",
    "        \n",
    "        optimizer.zero_grad()\n",
    "        output = ae(items[0])\n",
    "        #print(items[0])\n",
    "        #print(output.shape, item.shape)\n",
    "        loss = criterion(output, items[0])\n",
    "        loss.backward()\n",
    "        optimizer.step()\n",
    "        running_loss += loss.item()\n",
    "        counts.append(counter)\n",
    "        counter += 1\n",
    "        losses.append(running_loss)\n",
    "        \n",
    "    data = SeqDataset(filename, 2000)"
   ]
  },
  {
   "cell_type": "code",
   "execution_count": 7,
   "id": "b367d6d5",
   "metadata": {},
   "outputs": [
    {
     "data": {
      "image/png": "[encoded data removed]",
      "text/plain": [
       "<Figure size 432x288 with 1 Axes>"
      ]
     },
     "metadata": {
      "needs_background": "light"
     },
     "output_type": "display_data"
    }
   ],
   "source": [
    "plt.plot(counts, losses)\n",
    "plt.title('Autoencoder Training Loss')\n",
    "plt.xlabel('Number of samples trained')\n",
    "plt.ylabel('Loss')\n",
    "plt.show()"
   ]
  },
  {
   "cell_type": "code",
   "execution_count": null,
   "id": "cd80ce85",
   "metadata": {},
   "outputs": [],
   "source": []
  }
 ],
 "metadata": {
  "kernelspec": {
   "display_name": "Python 3 (ipykernel)",
   "language": "python",
   "name": "python3"
  },
  "language_info": {
   "codemirror_mode": {
    "name": "ipython",
    "version": 3
   },
   "file_extension": ".py",
   "mimetype": "text/x-python",
   "name": "python",
   "nbconvert_exporter": "python",
   "pygments_lexer": "ipython3",
   "version": "3.9.7"
  }
 },
 "nbformat": 4,
 "nbformat_minor": 5
}
